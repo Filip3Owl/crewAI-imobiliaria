{
 "cells": [
  {
   "cell_type": "code",
   "execution_count": 6,
   "id": "552d150a",
   "metadata": {},
   "outputs": [],
   "source": [
    "import json\n",
    "import os\n",
    "from datetime import datetime, timedelta\n",
    "from crewai import Agent, Task, Crew, Process\n",
    "from crewai_tools import CSVSearchTool\n",
    "from dotenv import load_dotenv, find_dotenv\n",
    "from langchain.tools import tool\n",
    "from langchain_community.tools import DuckDuckGoSearchResults\n",
    "from langchain_openai import ChatOpenAI"
   ]
  },
  {
   "cell_type": "code",
   "execution_count": 7,
   "id": "392d2d26",
   "metadata": {},
   "outputs": [],
   "source": [
    "load_dotenv(find_dotenv())\n",
    "llm = ChatOpenAI(model=\"gpt - 3.5-turbo-0125\")"
   ]
  },
  {
   "cell_type": "code",
   "execution_count": 9,
   "id": "359c11eb",
   "metadata": {},
   "outputs": [
    {
     "name": "stderr",
     "output_type": "stream",
     "text": [
      "Inserting batches in chromadb: 100%|██████████| 1/1 [00:05<00:00,  5.04s/it]\n"
     ]
    }
   ],
   "source": [
    "csv_imoveis = CSVSearchTool(csv=\"files/imoveis.csv\")"
   ]
  },
  {
   "cell_type": "code",
   "execution_count": 10,
   "id": "f046818e",
   "metadata": {},
   "outputs": [],
   "source": [
    "#agente corretor de imóveis\n",
    "corretor_imoveis = Agent(\n",
    "    role=\"Corretor de imóveis\",\n",
    "    goal=\"Obtenha as preferências do cliente e busque imóveis compatíveis no banco de dados.\",\n",
    "    backstory=\"Especialista no mercado imobiliário, encontre as melhores opções baseadas no perfil do cliente.\",\n",
    "    verbose=True,\n",
    "    max_iter=5,\n",
    "    tools=[csv_imoveis],\n",
    "    allow_delegation=False,\n",
    "    memory=True)\n"
   ]
  },
  {
   "cell_type": "code",
   "execution_count": 11,
   "id": "37665e56",
   "metadata": {},
   "outputs": [],
   "source": [
    "#tarefa de buscar imóveis\n",
    "buscar_imoveis = Task(\n",
    "    description=\"Pesquise imóveis na região desejada pelo cliente. Considerando faixa de preço e tipo de imóvel.\",\n",
    "    expected_output=\"Uma lista de imóveis que atendem às preferências do cliente.\",\n",
    "    agent=corretor_imoveis\n",
    "    )"
   ]
  },
  {
   "cell_type": "code",
   "execution_count": 15,
   "id": "eff5fb77",
   "metadata": {},
   "outputs": [],
   "source": [
    "#dados ficticios de imóveis\n",
    "from crewai.tools import BaseTool\n",
    "\n",
    "def obter_precos_imoveis(cidade: str = \"geral\"):\n",
    "    precos = {\n",
    "      \"São Paulo\": {\"Tendência\": \"aumento\", \"Percentual\":5.2},\n",
    "      \"Rio de Janeiro\": {\"Tendência\": \"estável\", \"Percentual\":0.0},\n",
    "      \"Belo Horizonte\": {\"Tendência\": \"queda\", \"Percentual\":-3.1},\n",
    "      \"Geral\": {\"Tendência\": \"aumento\", \"Percentual\":4.0}\n",
    "    }\n",
    "    return precos.get(cidade, precos[\"Geral\"])"
   ]
  },
  {
   "cell_type": "code",
   "execution_count": 17,
   "id": "408e45f1",
   "metadata": {},
   "outputs": [],
   "source": [
    "class TendenciaPrecosImoveisTool(BaseTool):\n",
    "    name: str = \"Analisador de preços imobiliários\"\n",
    "    description: str = \"Obtém tendências de preços de imóveis com base na cidade especificada.\"\n",
    "\n",
    "    def _run(self, cidade: str) -> dict:\n",
    "        \"\"\"\n",
    "        Executa a análise de preços imobiliários e retorna a tendência com base na cidade.\n",
    "        \"\"\"\n",
    "        try:\n",
    "            return obter_precos_imoveis(cidade)\n",
    "        except Exception as e:\n",
    "            return {\"erro\": f\"erro ao obter tendência de preços: {str(e)}\"}"
   ]
  },
  {
   "cell_type": "code",
   "execution_count": null,
   "id": "81a43498",
   "metadata": {},
   "outputs": [],
   "source": [
    "analista_mercado = Agent(\n",
    "    role=\"Analista de mercado imobiliário\",\n",
    "    goal=\"Análisa tendências de preços e ajuda a prever a valorização ou desvalorização dos imóveis na cidade {cidade}\",\n",
    "    backstory=\"Experiente no setor usa dados históricos para prever preços futuros.\",\n",
    "    verbose=True,\n",
    "    max_iter=5,\n",
    "    allow_delegation=False,\n",
    "    memory=True)"
   ]
  }
 ],
 "metadata": {
  "kernelspec": {
   "display_name": ".venv",
   "language": "python",
   "name": "python3"
  },
  "language_info": {
   "codemirror_mode": {
    "name": "ipython",
    "version": 3
   },
   "file_extension": ".py",
   "mimetype": "text/x-python",
   "name": "python",
   "nbconvert_exporter": "python",
   "pygments_lexer": "ipython3",
   "version": "3.11.0"
  }
 },
 "nbformat": 4,
 "nbformat_minor": 5
}
